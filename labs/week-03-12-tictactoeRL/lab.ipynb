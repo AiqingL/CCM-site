{
 "cells": [
  {
   "cell_type": "code",
   "execution_count": 1,
   "metadata": {},
   "outputs": [],
   "source": [
    "%matplotlib inline\n",
    "import matplotlib.pylab as plt\n",
    "import numpy as np\n",
    "\n",
    "from game import Game\n",
    "from teacher import Teacher\n",
    "from agent import Qlearner, SARSAlearner"
   ]
  },
  {
   "cell_type": "markdown",
   "metadata": {},
   "source": [
    "# SARSA algorithm"
   ]
  },
  {
   "cell_type": "markdown",
   "metadata": {},
   "source": [
    "Initialize the learning agent. We will use SARSA for now. All Q-values are initialized to 0"
   ]
  },
  {
   "cell_type": "code",
   "execution_count": 18,
   "metadata": {},
   "outputs": [],
   "source": [
    "agent = SARSAlearner(alpha=0.5, gamma=0.9, eps=0.5, eps_decay=1e-5)"
   ]
  },
  {
   "cell_type": "markdown",
   "metadata": {},
   "source": [
    "Play one game against the un-trained agent. This should be easy to win."
   ]
  },
  {
   "cell_type": "code",
   "execution_count": 6,
   "metadata": {
    "scrolled": true
   },
   "outputs": [
    {
     "name": "stdout",
     "output_type": "stream",
     "text": [
      "Would you like to go first? [y/n]: y\n",
      "\n",
      "    0   1   2\n",
      "\n",
      "0   -   -   -   \n",
      "\n",
      "1   -   -   -   \n",
      "\n",
      "2   -   -   -   \n",
      "\n",
      "Your move! Please select a row and column from 0-2 in the format row,col: 1,1\n",
      "\n",
      "\n",
      "    0   1   2\n",
      "\n",
      "0   O   -   -   \n",
      "\n",
      "1   -   X   -   \n",
      "\n",
      "2   -   -   -   \n",
      "\n",
      "Your move! Please select a row and column from 0-2 in the format row,col: 2,0\n",
      "\n",
      "\n",
      "    0   1   2\n",
      "\n",
      "0   O   -   -   \n",
      "\n",
      "1   -   X   -   \n",
      "\n",
      "2   X   -   O   \n",
      "\n",
      "Your move! Please select a row and column from 0-2 in the format row,col: 0,2\n",
      "\n",
      "\n",
      "    0   1   2\n",
      "\n",
      "0   O   -   X   \n",
      "\n",
      "1   -   X   -   \n",
      "\n",
      "2   X   -   O   \n",
      "\n",
      "Player wins!\n"
     ]
    }
   ],
   "source": [
    "game = Game(agent)\n",
    "game.start()"
   ]
  },
  {
   "cell_type": "markdown",
   "metadata": {},
   "source": [
    "Initialize the teacher agent. The teacher agent knows the optimal tic-tac-toe strategy. \"level\" specifies how often\n",
    "the agent will make the optimal move vs. a randomly-selected move (i.e., it is the probability of optimal move)"
   ]
  },
  {
   "cell_type": "code",
   "execution_count": 19,
   "metadata": {},
   "outputs": [],
   "source": [
    "teacher = Teacher(level=0.9)"
   ]
  },
  {
   "cell_type": "markdown",
   "metadata": {},
   "source": [
    "Teach the SARSA agent via 50000 episodes (games)"
   ]
  },
  {
   "cell_type": "code",
   "execution_count": 20,
   "metadata": {},
   "outputs": [
    {
     "name": "stdout",
     "output_type": "stream",
     "text": [
      "Games played: 5000\n",
      "Games played: 10000\n",
      "Games played: 15000\n",
      "Games played: 20000\n",
      "Games played: 25000\n",
      "Games played: 30000\n",
      "Games played: 35000\n",
      "Games played: 40000\n",
      "Games played: 45000\n",
      "Games played: 50000\n",
      "Games played: 55000\n",
      "Games played: 60000\n",
      "Games played: 65000\n",
      "Games played: 70000\n",
      "Games played: 75000\n",
      "Games played: 80000\n",
      "Games played: 85000\n",
      "Games played: 90000\n",
      "Games played: 95000\n",
      "Games played: 100000\n"
     ]
    }
   ],
   "source": [
    "episodes = 100000\n",
    "for i in range(episodes):\n",
    "    game = Game(agent, teacher=teacher)\n",
    "    game.start()\n",
    "    if (i+1) % 5000 == 0:\n",
    "        print(\"Games played: %i\" % (i+1))"
   ]
  },
  {
   "cell_type": "markdown",
   "metadata": {},
   "source": [
    "Visualize cumulative reward vs. episode"
   ]
  },
  {
   "cell_type": "code",
   "execution_count": 21,
   "metadata": {},
   "outputs": [],
   "source": [
    "def plot_agent_reward(rewards):\n",
    "    \"\"\" Function to plot agent's accumulated reward vs. episode \"\"\"\n",
    "    plt.plot(np.cumsum(rewards))\n",
    "    plt.title('Cumulative Reward vs. Time')\n",
    "    plt.ylabel('Cumulative Reward')\n",
    "    plt.xlabel('Time (# of actions)')\n",
    "    plt.show()"
   ]
  },
  {
   "cell_type": "code",
   "execution_count": 22,
   "metadata": {},
   "outputs": [
    {
     "data": {
      "image/png": "[encoded data removed]",
      "text/plain": [
       "<Figure size 432x288 with 1 Axes>"
      ]
     },
     "metadata": {},
     "output_type": "display_data"
    }
   ],
   "source": [
    "plot_agent_reward(agent.rewards)"
   ]
  },
  {
   "cell_type": "markdown",
   "metadata": {},
   "source": [
    "Now try playing the agent again, post-learning"
   ]
  },
  {
   "cell_type": "code",
   "execution_count": 13,
   "metadata": {
    "scrolled": true
   },
   "outputs": [
    {
     "name": "stdout",
     "output_type": "stream",
     "text": [
      "Would you like to go first? [y/n]: y\n",
      "\n",
      "    0   1   2\n",
      "\n",
      "0   -   -   -   \n",
      "\n",
      "1   -   -   -   \n",
      "\n",
      "2   -   -   -   \n",
      "\n",
      "Your move! Please select a row and column from 0-2 in the format row,col: 2,0\n",
      "\n",
      "\n",
      "    0   1   2\n",
      "\n",
      "0   -   -   -   \n",
      "\n",
      "1   -   O   -   \n",
      "\n",
      "2   X   -   -   \n",
      "\n",
      "Your move! Please select a row and column from 0-2 in the format row,col: 2,2\n",
      "\n",
      "\n",
      "    0   1   2\n",
      "\n",
      "0   -   -   -   \n",
      "\n",
      "1   -   O   -   \n",
      "\n",
      "2   X   O   X   \n",
      "\n",
      "Your move! Please select a row and column from 0-2 in the format row,col: 0,1\n",
      "\n",
      "\n",
      "    0   1   2\n",
      "\n",
      "0   -   X   -   \n",
      "\n",
      "1   -   O   O   \n",
      "\n",
      "2   X   O   X   \n",
      "\n",
      "Your move! Please select a row and column from 0-2 in the format row,col: 1,0\n",
      "\n",
      "\n",
      "    0   1   2\n",
      "\n",
      "0   O   X   -   \n",
      "\n",
      "1   X   O   O   \n",
      "\n",
      "2   X   O   X   \n",
      "\n",
      "Your move! Please select a row and column from 0-2 in the format row,col: 0,2\n",
      "\n",
      "\n",
      "    0   1   2\n",
      "\n",
      "0   O   X   X   \n",
      "\n",
      "1   X   O   O   \n",
      "\n",
      "2   X   O   X   \n",
      "\n",
      "It's a draw!\n"
     ]
    }
   ],
   "source": [
    "agent.eps = 0. # agent always takes greedy strategy\n",
    "game = Game(agent)\n",
    "game.start()"
   ]
  },
  {
   "cell_type": "markdown",
   "metadata": {},
   "source": [
    "# Q-learning algorithm"
   ]
  },
  {
   "cell_type": "markdown",
   "metadata": {},
   "source": [
    "Now, repeat with Q-learning agent"
   ]
  },
  {
   "cell_type": "code",
   "execution_count": 23,
   "metadata": {
    "scrolled": false
   },
   "outputs": [
    {
     "name": "stdout",
     "output_type": "stream",
     "text": [
      "Games played: 5000\n",
      "Games played: 10000\n",
      "Games played: 15000\n",
      "Games played: 20000\n",
      "Games played: 25000\n",
      "Games played: 30000\n",
      "Games played: 35000\n",
      "Games played: 40000\n",
      "Games played: 45000\n",
      "Games played: 50000\n",
      "Games played: 55000\n",
      "Games played: 60000\n",
      "Games played: 65000\n",
      "Games played: 70000\n",
      "Games played: 75000\n",
      "Games played: 80000\n",
      "Games played: 85000\n",
      "Games played: 90000\n",
      "Games played: 95000\n",
      "Games played: 100000\n"
     ]
    }
   ],
   "source": [
    "agent = Qlearner(alpha=0.5, gamma=0.9, eps=0.5, eps_decay=1e-5)\n",
    "episodes = 100000\n",
    "for i in range(episodes):\n",
    "    game = Game(agent, teacher=teacher)\n",
    "    game.start()\n",
    "    if (i+1) % 5000 == 0:\n",
    "        print(\"Games played: %i\" % (i+1))"
   ]
  },
  {
   "cell_type": "code",
   "execution_count": 24,
   "metadata": {},
   "outputs": [
    {
     "data": {
      "image/png": "[encoded data removed]",
      "text/plain": [
       "<Figure size 432x288 with 1 Axes>"
      ]
     },
     "metadata": {},
     "output_type": "display_data"
    }
   ],
   "source": [
    "plot_agent_reward(agent.rewards)"
   ]
  },
  {
   "cell_type": "markdown",
   "metadata": {},
   "source": [
    "Try playing the agent, post-learning"
   ]
  },
  {
   "cell_type": "code",
   "execution_count": null,
   "metadata": {},
   "outputs": [],
   "source": [
    "agent.eps = 0. # agent always takes greedy strategy\n",
    "game = Game(agent)\n",
    "game.start()"
   ]
  },
  {
   "cell_type": "code",
   "execution_count": null,
   "metadata": {},
   "outputs": [],
   "source": []
  }
 ],
 "metadata": {
  "kernelspec": {
   "display_name": "Python 3",
   "language": "python",
   "name": "python3"
  },
  "language_info": {
   "codemirror_mode": {
    "name": "ipython",
    "version": 3
   },
   "file_extension": ".py",
   "mimetype": "text/x-python",
   "name": "python",
   "nbconvert_exporter": "python",
   "pygments_lexer": "ipython3",
   "version": "3.6.8"
  }
 },
 "nbformat": 4,
 "nbformat_minor": 2
}
